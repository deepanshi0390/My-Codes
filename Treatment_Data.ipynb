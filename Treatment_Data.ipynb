{
 "cells": [
  {
   "cell_type": "code",
   "execution_count": 12,
   "id": "204a25bc",
   "metadata": {},
   "outputs": [],
   "source": [
    "import matplotlib.pyplot as plt\n",
    "from collections import deque\n",
    "import random\n",
    "import pandas as pd\n",
    "import os"
   ]
  },
  {
   "cell_type": "code",
   "execution_count": 23,
   "id": "83147387",
   "metadata": {},
   "outputs": [
    {
     "data": {
      "text/html": [
       "<div>\n",
       "<style scoped>\n",
       "    .dataframe tbody tr th:only-of-type {\n",
       "        vertical-align: middle;\n",
       "    }\n",
       "\n",
       "    .dataframe tbody tr th {\n",
       "        vertical-align: top;\n",
       "    }\n",
       "\n",
       "    .dataframe thead th {\n",
       "        text-align: right;\n",
       "    }\n",
       "</style>\n",
       "<table border=\"1\" class=\"dataframe\">\n",
       "  <thead>\n",
       "    <tr style=\"text-align: right;\">\n",
       "      <th></th>\n",
       "      <th>Pre_Flx</th>\n",
       "      <th>Post_Flx</th>\n",
       "    </tr>\n",
       "  </thead>\n",
       "  <tbody>\n",
       "    <tr>\n",
       "      <th>0</th>\n",
       "      <td>60.000000</td>\n",
       "      <td>81.250000</td>\n",
       "    </tr>\n",
       "    <tr>\n",
       "      <th>1</th>\n",
       "      <td>54.545454</td>\n",
       "      <td>76.923077</td>\n",
       "    </tr>\n",
       "    <tr>\n",
       "      <th>2</th>\n",
       "      <td>64.000000</td>\n",
       "      <td>77.777778</td>\n",
       "    </tr>\n",
       "    <tr>\n",
       "      <th>3</th>\n",
       "      <td>64.705882</td>\n",
       "      <td>72.222222</td>\n",
       "    </tr>\n",
       "    <tr>\n",
       "      <th>4</th>\n",
       "      <td>60.869565</td>\n",
       "      <td>63.414634</td>\n",
       "    </tr>\n",
       "    <tr>\n",
       "      <th>5</th>\n",
       "      <td>57.894737</td>\n",
       "      <td>61.111111</td>\n",
       "    </tr>\n",
       "    <tr>\n",
       "      <th>6</th>\n",
       "      <td>60.869565</td>\n",
       "      <td>57.894737</td>\n",
       "    </tr>\n",
       "    <tr>\n",
       "      <th>7</th>\n",
       "      <td>61.111111</td>\n",
       "      <td>46.875000</td>\n",
       "    </tr>\n",
       "    <tr>\n",
       "      <th>8</th>\n",
       "      <td>55.555556</td>\n",
       "      <td>68.000000</td>\n",
       "    </tr>\n",
       "    <tr>\n",
       "      <th>9</th>\n",
       "      <td>68.181818</td>\n",
       "      <td>75.000000</td>\n",
       "    </tr>\n",
       "    <tr>\n",
       "      <th>10</th>\n",
       "      <td>69.565217</td>\n",
       "      <td>53.333333</td>\n",
       "    </tr>\n",
       "    <tr>\n",
       "      <th>11</th>\n",
       "      <td>68.421053</td>\n",
       "      <td>53.333333</td>\n",
       "    </tr>\n",
       "    <tr>\n",
       "      <th>12</th>\n",
       "      <td>65.384615</td>\n",
       "      <td>65.217391</td>\n",
       "    </tr>\n",
       "    <tr>\n",
       "      <th>13</th>\n",
       "      <td>51.724138</td>\n",
       "      <td>33.333333</td>\n",
       "    </tr>\n",
       "    <tr>\n",
       "      <th>14</th>\n",
       "      <td>68.421053</td>\n",
       "      <td>85.714286</td>\n",
       "    </tr>\n",
       "    <tr>\n",
       "      <th>15</th>\n",
       "      <td>52.173913</td>\n",
       "      <td>68.421053</td>\n",
       "    </tr>\n",
       "    <tr>\n",
       "      <th>16</th>\n",
       "      <td>58.333333</td>\n",
       "      <td>69.230769</td>\n",
       "    </tr>\n",
       "    <tr>\n",
       "      <th>17</th>\n",
       "      <td>57.142857</td>\n",
       "      <td>76.923077</td>\n",
       "    </tr>\n",
       "    <tr>\n",
       "      <th>18</th>\n",
       "      <td>60.714286</td>\n",
       "      <td>62.500000</td>\n",
       "    </tr>\n",
       "    <tr>\n",
       "      <th>19</th>\n",
       "      <td>60.000000</td>\n",
       "      <td>59.090909</td>\n",
       "    </tr>\n",
       "    <tr>\n",
       "      <th>20</th>\n",
       "      <td>50.000000</td>\n",
       "      <td>73.684211</td>\n",
       "    </tr>\n",
       "    <tr>\n",
       "      <th>21</th>\n",
       "      <td>57.142857</td>\n",
       "      <td>33.333333</td>\n",
       "    </tr>\n",
       "    <tr>\n",
       "      <th>22</th>\n",
       "      <td>64.000000</td>\n",
       "      <td>68.750000</td>\n",
       "    </tr>\n",
       "    <tr>\n",
       "      <th>23</th>\n",
       "      <td>52.631579</td>\n",
       "      <td>47.368421</td>\n",
       "    </tr>\n",
       "    <tr>\n",
       "      <th>24</th>\n",
       "      <td>63.636364</td>\n",
       "      <td>64.285714</td>\n",
       "    </tr>\n",
       "    <tr>\n",
       "      <th>25</th>\n",
       "      <td>66.666667</td>\n",
       "      <td>89.473684</td>\n",
       "    </tr>\n",
       "    <tr>\n",
       "      <th>26</th>\n",
       "      <td>52.941176</td>\n",
       "      <td>61.111111</td>\n",
       "    </tr>\n",
       "    <tr>\n",
       "      <th>27</th>\n",
       "      <td>50.000000</td>\n",
       "      <td>65.217391</td>\n",
       "    </tr>\n",
       "    <tr>\n",
       "      <th>28</th>\n",
       "      <td>68.181818</td>\n",
       "      <td>83.333333</td>\n",
       "    </tr>\n",
       "    <tr>\n",
       "      <th>29</th>\n",
       "      <td>63.157895</td>\n",
       "      <td>52.631579</td>\n",
       "    </tr>\n",
       "    <tr>\n",
       "      <th>30</th>\n",
       "      <td>64.705882</td>\n",
       "      <td>70.833333</td>\n",
       "    </tr>\n",
       "    <tr>\n",
       "      <th>31</th>\n",
       "      <td>52.380952</td>\n",
       "      <td>63.636364</td>\n",
       "    </tr>\n",
       "    <tr>\n",
       "      <th>32</th>\n",
       "      <td>57.692308</td>\n",
       "      <td>68.421053</td>\n",
       "    </tr>\n",
       "  </tbody>\n",
       "</table>\n",
       "</div>"
      ],
      "text/plain": [
       "      Pre_Flx   Post_Flx\n",
       "0   60.000000  81.250000\n",
       "1   54.545454  76.923077\n",
       "2   64.000000  77.777778\n",
       "3   64.705882  72.222222\n",
       "4   60.869565  63.414634\n",
       "5   57.894737  61.111111\n",
       "6   60.869565  57.894737\n",
       "7   61.111111  46.875000\n",
       "8   55.555556  68.000000\n",
       "9   68.181818  75.000000\n",
       "10  69.565217  53.333333\n",
       "11  68.421053  53.333333\n",
       "12  65.384615  65.217391\n",
       "13  51.724138  33.333333\n",
       "14  68.421053  85.714286\n",
       "15  52.173913  68.421053\n",
       "16  58.333333  69.230769\n",
       "17  57.142857  76.923077\n",
       "18  60.714286  62.500000\n",
       "19  60.000000  59.090909\n",
       "20  50.000000  73.684211\n",
       "21  57.142857  33.333333\n",
       "22  64.000000  68.750000\n",
       "23  52.631579  47.368421\n",
       "24  63.636364  64.285714\n",
       "25  66.666667  89.473684\n",
       "26  52.941176  61.111111\n",
       "27  50.000000  65.217391\n",
       "28  68.181818  83.333333\n",
       "29  63.157895  52.631579\n",
       "30  64.705882  70.833333\n",
       "31  52.380952  63.636364\n",
       "32  57.692308  68.421053"
      ]
     },
     "execution_count": 23,
     "metadata": {},
     "output_type": "execute_result"
    }
   ],
   "source": [
    "# MAX NO. OF POINTS TO STORE\n",
    "que = pd.read_csv('Pre-post_treatment.csv') \n",
    "que"
   ]
  },
  {
   "cell_type": "code",
   "execution_count": 36,
   "id": "660853de",
   "metadata": {},
   "outputs": [],
   "source": [
    "df1 = pd.DataFrame({'red' : []})\n",
    "df2 = pd.DataFrame({'green' : []})\n",
    "\n",
    "df1['red'] = que[\"Pre_Flx\"]\n",
    "# df1['foo'] = range(len(que[\"Pre_Flx\"]))\n",
    "# df2['foo'] = range(len(que[\"Post_Flx\"]))\n",
    "df2['green'] = que[\"Post_Flx\"]"
   ]
  },
  {
   "cell_type": "code",
   "execution_count": 93,
   "id": "c3d57f96",
   "metadata": {},
   "outputs": [
    {
     "data": {
      "text/plain": [
       "<matplotlib.collections.PathCollection at 0x1ac9e02dbe0>"
      ]
     },
     "execution_count": 93,
     "metadata": {},
     "output_type": "execute_result"
    },
    {
     "data": {
      "image/png": "[encoded data removed]",
      "text/plain": [
       "<Figure size 640x480 with 1 Axes>"
      ]
     },
     "metadata": {},
     "output_type": "display_data"
    }
   ],
   "source": [
    "plt.scatter ([1 for i in range(len(df1['red']))],df1['red'])\n",
    "plt.scatter ([1.2 for i in range(len(df2['green']))],df2['green'])"
   ]
  },
  {
   "cell_type": "code",
   "execution_count": 59,
   "id": "3a8592b0",
   "metadata": {},
   "outputs": [
    {
     "data": {
      "text/plain": [
       "[<matplotlib.lines.Line2D at 0x1ac9c3abc10>]"
      ]
     },
     "execution_count": 59,
     "metadata": {},
     "output_type": "execute_result"
    },
    {
     "data": {
      "image/png": "[encoded data removed]",
      "text/plain": [
       "<Figure size 640x480 with 1 Axes>"
      ]
     },
     "metadata": {},
     "output_type": "display_data"
    }
   ],
   "source": [
    "plt.plot([i for i in range(10)],[i for i in range(10)], marker='.')"
   ]
  },
  {
   "cell_type": "code",
   "execution_count": 64,
   "id": "8322419a",
   "metadata": {},
   "outputs": [
    {
     "data": {
      "text/plain": [
       "[<matplotlib.lines.Line2D at 0x1ac9c173820>]"
      ]
     },
     "execution_count": 64,
     "metadata": {},
     "output_type": "execute_result"
    },
    {
     "data": {
      "image/png": "[encoded data removed]",
      "text/plain": [
       "<Figure size 640x480 with 1 Axes>"
      ]
     },
     "metadata": {},
     "output_type": "display_data"
    }
   ],
   "source": [
    "plt.plot(1,df1['red'][0],marker='.')\n",
    "plt.plot(2,df2['green'][0],marker='.')"
   ]
  },
  {
   "cell_type": "code",
   "execution_count": 76,
   "id": "35e32a4d",
   "metadata": {},
   "outputs": [
    {
     "data": {
      "text/plain": [
       "0     60.000000\n",
       "1     54.545454\n",
       "2     64.000000\n",
       "3     64.705882\n",
       "4     60.869565\n",
       "5     57.894737\n",
       "6     60.869565\n",
       "7     61.111111\n",
       "8     55.555556\n",
       "9     68.181818\n",
       "10    69.565217\n",
       "11    68.421053\n",
       "12    65.384615\n",
       "13    51.724138\n",
       "14    68.421053\n",
       "15    52.173913\n",
       "16    58.333333\n",
       "17    57.142857\n",
       "18    60.714286\n",
       "19    60.000000\n",
       "20    50.000000\n",
       "21    57.142857\n",
       "22    64.000000\n",
       "23    52.631579\n",
       "24    63.636364\n",
       "25    66.666667\n",
       "26    52.941176\n",
       "27    50.000000\n",
       "28    68.181818\n",
       "29    63.157895\n",
       "30    64.705882\n",
       "31    52.380952\n",
       "32    57.692308\n",
       "Name: red, dtype: float64"
      ]
     },
     "execution_count": 76,
     "metadata": {},
     "output_type": "execute_result"
    }
   ],
   "source": [
    "df1['red']"
   ]
  },
  {
   "cell_type": "code",
   "execution_count": 90,
   "id": "96799fe5",
   "metadata": {},
   "outputs": [
    {
     "data": {
      "text/plain": [
       "[<matplotlib.lines.Line2D at 0x1ac9dcdf520>]"
      ]
     },
     "execution_count": 90,
     "metadata": {},
     "output_type": "execute_result"
    },
    {
     "data": {
      "image/png": "[encoded data removed]",
      "text/plain": [
       "<Figure size 640x480 with 1 Axes>"
      ]
     },
     "metadata": {},
     "output_type": "display_data"
    }
   ],
   "source": [
    "\n",
    "x_values = [1, que['Pre_Flx'][0]]\n",
    "y_values = [1.2, que['Post_Flx'][0]]\n",
    "plt.plot(x_values, y_values, 'bo', linestyle=\"--\")"
   ]
  },
  {
   "cell_type": "code",
   "execution_count": 88,
   "id": "b8383e52",
   "metadata": {},
   "outputs": [
    {
     "data": {
      "text/plain": [
       "[1, 60.0]"
      ]
     },
     "execution_count": 88,
     "metadata": {},
     "output_type": "execute_result"
    }
   ],
   "source": [
    "x_values"
   ]
  },
  {
   "cell_type": "code",
   "execution_count": 89,
   "id": "f137a377",
   "metadata": {},
   "outputs": [
    {
     "data": {
      "text/plain": [
       "[1.2, 81.25]"
      ]
     },
     "execution_count": 89,
     "metadata": {},
     "output_type": "execute_result"
    }
   ],
   "source": [
    "y_values"
   ]
  },
  {
   "cell_type": "code",
   "execution_count": 97,
   "id": "e8e96d83",
   "metadata": {},
   "outputs": [
    {
     "data": {
      "text/plain": [
       "[<matplotlib.lines.Line2D at 0x1ac9e46de80>]"
      ]
     },
     "execution_count": 97,
     "metadata": {},
     "output_type": "execute_result"
    },
    {
     "data": {
      "image/png": "[encoded data removed]",
      "text/plain": [
       "<Figure size 640x480 with 1 Axes>"
      ]
     },
     "metadata": {},
     "output_type": "display_data"
    }
   ],
   "source": [
    "plt.plot([1,2],[60,80])"
   ]
  },
  {
   "cell_type": "code",
   "execution_count": 95,
   "id": "176cba81",
   "metadata": {},
   "outputs": [
    {
     "data": {
      "text/plain": [
       "60.0"
      ]
     },
     "execution_count": 95,
     "metadata": {},
     "output_type": "execute_result"
    }
   ],
   "source": [
    "que['Pre_Flx'][0]"
   ]
  },
  {
   "cell_type": "code",
   "execution_count": 179,
   "id": "cc9ea413",
   "metadata": {},
   "outputs": [],
   "source": [
    "\n",
    "for r in range(len(que['Pre_Flx'])):\n",
    "#     for i in range(len(que['Pre_Flx'][0:r])):\n",
    "    plt.plot([1,1.2],[que['Pre_Flx'][0:r+1],que['Post_Flx'][0:r+1]],color='black',linewidth=1)\n",
    "    plt.scatter ([1 for l in range(len(df1['red'][0:r+1]))],df1['red'][0:r+1],color='#A5F8C2',edgecolors='black')\n",
    "    plt.scatter ([1.2 for l in range(len(df2['green'][0:r+1]))],df2['green'][0:r+1],color='#48965C',edgecolors='black')\n",
    "    plt.ylim(0,100)\n",
    "    plt.xlim(0.9,1.4)\n",
    "    plt.xticks([0.9,1.0,1.1,1.2,1.3,1.4],['','Pre-Flx','','Post-Flx','',''])\n",
    "    plt.savefig('plot_%i.png'%r,dpi=600,bbox_inches='tight')\n",
    "    plt.close()\n",
    "    "
   ]
  },
  {
   "cell_type": "code",
   "execution_count": 178,
   "id": "b9352c9f",
   "metadata": {},
   "outputs": [
    {
     "name": "stderr",
     "output_type": "stream",
     "text": [
      "100%|██████████| 33/33 [00:00<00:00, 2058.69it/s]\n"
     ]
    }
   ],
   "source": [
    "from PIL import Image\n",
    "import glob\n",
    "import os\n",
    "import re\n",
    "import tqdm\n",
    "\n",
    "# os.chdir('FLX_data//')\n",
    "# Create the frames\n",
    "frames = []\n",
    "imgs = glob.glob(\"*.png\")\n",
    "numbers = re.compile(r'(\\d+)')\n",
    "def numericalSort(value):\n",
    "    parts = numbers.split(value)\n",
    "    parts[1::2] = map(int, parts[1::2])\n",
    "    return parts\n",
    "\n",
    "for i in tqdm.tqdm(sorted(imgs,key=numericalSort)):\n",
    "    new_frame = Image.open(i)\n",
    "    frames.append(new_frame)\n",
    "\n",
    "# Save into a GIF file that loops forever\n",
    "frames[0].save('FLX.gif', format='GIF',\n",
    "               append_images=frames[1:],\n",
    "               save_all=True,\n",
    "               duration=200, loop=1)\n"
   ]
  },
  {
   "cell_type": "code",
   "execution_count": 119,
   "id": "e3c0b064",
   "metadata": {},
   "outputs": [
    {
     "data": {
      "text/plain": [
       "0    60.000000\n",
       "1    54.545454\n",
       "2    64.000000\n",
       "Name: red, dtype: float64"
      ]
     },
     "execution_count": 119,
     "metadata": {},
     "output_type": "execute_result"
    }
   ],
   "source": [
    "df1['red'][0:3]"
   ]
  },
  {
   "cell_type": "code",
   "execution_count": 180,
   "id": "ec6b6b73",
   "metadata": {},
   "outputs": [
    {
     "data": {
      "image/png": "[encoded data removed]",
      "text/plain": [
       "<Figure size 640x480 with 1 Axes>"
      ]
     },
     "metadata": {},
     "output_type": "display_data"
    }
   ],
   "source": [
    "# plt.figure(figsize=(2, 10))\n",
    "\n",
    "plt.plot([1,1.2],[que['Pre_Flx'][0],que['Post_Flx'][0]],color='black',alpha=0.5,linewidth=2)\n",
    "# plt.xlim(0.9,1.4)\n",
    "\n",
    "plt.ylim(0,100)\n",
    "# plt.xticks([0.9,1.0,1.1,1.2,1.3,1.4],['','Pre-Flx','','Post-Flx','',''])\n",
    "plt.show()"
   ]
  },
  {
   "cell_type": "code",
   "execution_count": null,
   "id": "c3a348a1",
   "metadata": {},
   "outputs": [],
   "source": []
  }
 ],
 "metadata": {
  "kernelspec": {
   "display_name": "Python 3 (ipykernel)",
   "language": "python",
   "name": "python3"
  },
  "language_info": {
   "codemirror_mode": {
    "name": "ipython",
    "version": 3
   },
   "file_extension": ".py",
   "mimetype": "text/x-python",
   "name": "python",
   "nbconvert_exporter": "python",
   "pygments_lexer": "ipython3",
   "version": "3.9.13"
  }
 },
 "nbformat": 4,
 "nbformat_minor": 5
}
